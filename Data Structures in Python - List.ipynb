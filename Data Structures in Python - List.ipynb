{
 "cells": [
  {
   "cell_type": "markdown",
   "metadata": {
    "colab_type": "text",
    "id": "eaNq4Gmi9Qic"
   },
   "source": [
    "# Advance in Python - Part 1 (Data Structures in Python - List)\n",
    "\n",
    "### List is a collection of items which is ordered and changeable. It can store heterogeneous data type.\n",
    "\n",
    "#### Topics\n",
    "1. Data Structures in Python - List\n",
    "   - List declaration\n",
    "   - List iteration while/for loop\n",
    "   - Add element to list using append(), insert(), extend()\n",
    "   - Deleting from list using del, remove(), pop()\n",
    "   - Operations on List: Sum/Average, Min/Max, Sort, Merge, Search\n",
    "   - Generate a list of random numbers, random strings \n",
    "   - Nested List\n",
    "   - Use of copy() function\n",
    "\n",
    "##### Note: \n",
    "1. First Clean the Evironment (Go to \"Kernel\" Menu --> \"Restart & Clean Output\"\n",
    "2. To execute the code --> Click on a cell and press cntrl + enter key"
   ]
  },
  {
   "cell_type": "markdown",
   "metadata": {
    "colab_type": "text",
    "id": "y3VrvYW2-6Ka"
   },
   "source": [
    "## 1: Data Structure - List"
   ]
  },
  {
   "cell_type": "markdown",
   "metadata": {},
   "source": [
    "### 1.1: List declaration"
   ]
  },
  {
   "cell_type": "code",
   "execution_count": 1,
   "metadata": {
    "colab": {
     "base_uri": "https://localhost:8080/",
     "height": 35
    },
    "colab_type": "code",
    "executionInfo": {
     "elapsed": 1478,
     "status": "ok",
     "timestamp": 1590401820703,
     "user": {
      "displayName": "Prashant Singh Rana",
      "photoUrl": "https://lh3.googleusercontent.com/a-/AOh14Gi2FtAQLyyuUB_MxR3VjjpuNfLOCJ-1R_qmOCsPLg=s64",
      "userId": "12245731978561464083"
     },
     "user_tz": -330
    },
    "id": "eikxCFcN-7AR",
    "outputId": "69d3d3da-b19c-4b8d-b9b8-e78dfcdec3e2"
   },
   "outputs": [
    {
     "name": "stdout",
     "output_type": "stream",
     "text": [
      "L                  --> ['Varun', 'Kumar', 3.14, 3]\n",
      "Number of elements --> 4\n",
      "Type of Object     --> <class 'list'>\n"
     ]
    }
   ],
   "source": [
    "#------------------------------------------------------------------------\n",
    "# 1.1: List declaration\n",
    "#------------------------------------------------------------------------\n",
    "# Method 1\n",
    "L = [\"Varun\", 'Kumar', 3.14, 3]\n",
    "\n",
    "print (\"L                  -->\", L)\n",
    "print (\"Number of elements -->\", len(L))\n",
    "print (\"Type of Object     -->\", type(L))\n"
   ]
  },
  {
   "cell_type": "code",
   "execution_count": 2,
   "metadata": {},
   "outputs": [
    {
     "name": "stdout",
     "output_type": "stream",
     "text": [
      "L                  --> ['Varun', 'Kumar', 3.14, 3]\n",
      "Number of elements --> 4\n",
      "Type of Object     --> <class 'list'>\n"
     ]
    }
   ],
   "source": [
    "# Method 2\n",
    "L = list([\"Varun\", 'Kumar', 3.14, 3]) \n",
    "#L = list((\"Pratham\", 'Sharma', 3.14, 3)) # Also works \n",
    "\n",
    "print (\"L                  -->\", L)\n",
    "print (\"Number of elements -->\", len(L))\n",
    "print (\"Type of Object     -->\", type(L))\n"
   ]
  },
  {
   "cell_type": "markdown",
   "metadata": {},
   "source": [
    "### 1.2: List iteration using while loop"
   ]
  },
  {
   "cell_type": "code",
   "execution_count": 4,
   "metadata": {},
   "outputs": [
    {
     "name": "stdout",
     "output_type": "stream",
     "text": [
      "L --> ['Varun', 'Kumar', 3.14, 3]\n",
      "\n",
      "Varun\n",
      "Kumar\n",
      "3.14\n",
      "3\n"
     ]
    }
   ],
   "source": [
    "#------------------------------------------------------------------------\n",
    "# 1.2: List iteration using while loop\n",
    "#------------------------------------------------------------------------\n",
    "L = [\"Varun\", 'Kumar', 3.14, 3]\n",
    "print (\"L -->\", L)\n",
    "\n",
    "print (\"\")\n",
    "i = 0\n",
    "while i < len(L): \n",
    "    print (L[i])\n",
    "    i += 1\n"
   ]
  },
  {
   "cell_type": "markdown",
   "metadata": {},
   "source": [
    "### 1.3: List iteration using for loop"
   ]
  },
  {
   "cell_type": "code",
   "execution_count": 6,
   "metadata": {},
   "outputs": [
    {
     "name": "stdout",
     "output_type": "stream",
     "text": [
      "L --> ['Pratham', 'Sharma', 3.14, 3]\n",
      "\n",
      "Pratham\n",
      "Sharma\n",
      "3.14\n",
      "3\n"
     ]
    }
   ],
   "source": [
    "#------------------------------------------------------------------------\n",
    "# 1.3: List iteration using for loop\n",
    "#------------------------------------------------------------------------\n",
    "L = [\"Pratham\", 'Sharma', 3.14, 3]\n",
    "print (\"L -->\", L)\n",
    "\n",
    "print (\"\")\n",
    "for i in range(0, len(L)): \n",
    "    print (L[i])\n"
   ]
  },
  {
   "cell_type": "markdown",
   "metadata": {},
   "source": [
    "### 1.4: List iteration using for loop"
   ]
  },
  {
   "cell_type": "code",
   "execution_count": 7,
   "metadata": {},
   "outputs": [
    {
     "name": "stdout",
     "output_type": "stream",
     "text": [
      "L --> ['Varun', 'Kumar', 3.14, 3]\n",
      "\n",
      "Varun\n",
      "Kumar\n",
      "3.14\n",
      "3\n"
     ]
    }
   ],
   "source": [
    "#------------------------------------------------------------------------\n",
    "# 1.4: List iteration using for loop\n",
    "#------------------------------------------------------------------------\n",
    "L = [\"Varun\", 'Kumar', 3.14, 3]\n",
    "print (\"L -->\", L)\n",
    "\n",
    "print (\"\")\n",
    "for s in L:\n",
    "    print (s)\n"
   ]
  },
  {
   "cell_type": "markdown",
   "metadata": {},
   "source": [
    "### 1.5: Accessing/Selecting List item"
   ]
  },
  {
   "cell_type": "code",
   "execution_count": 8,
   "metadata": {},
   "outputs": [
    {
     "name": "stdout",
     "output_type": "stream",
     "text": [
      "L     --> [3, 6, 9, 12, 5, 3, 2]\n",
      "\n",
      "L[1]  --> 6\n",
      "L[2]  --> 9\n",
      "L[-1] --> 2\n",
      "L[-2] --> 3\n"
     ]
    }
   ],
   "source": [
    "#------------------------------------------------------------------------\n",
    "# 1.5: Accessing/Selecting List item\n",
    "#------------------------------------------------------------------------\n",
    "# Example 1\n",
    "L = [3, 6, 9, 12, 5, 3, 2]\n",
    "print (\"L     -->\", L)\n",
    "\n",
    "print (\"\")\n",
    "print (\"L[1]  -->\", L[1])\n",
    "print (\"L[2]  -->\", L[2])\n",
    "print (\"L[-1] -->\", L[-1]) #Last element\n",
    "print (\"L[-2] -->\", L[-2])\n"
   ]
  },
  {
   "cell_type": "code",
   "execution_count": 1,
   "metadata": {},
   "outputs": [
    {
     "name": "stdout",
     "output_type": "stream",
     "text": [
      "L        --> [3, 6, 9, 12, 5, 3, 2]\n",
      "\n",
      "L[1:3]   --> [6, 9]\n",
      "L[2:]    --> [9, 12, 5, 3, 2]\n",
      "L[2:5]   --> [9, 12, 5]\n",
      "L[:2]    --> [3, 6]\n",
      "L[:-1]   --> [3, 6, 9, 12, 5, 3]\n",
      "L[-4:-1] --> [12, 5, 3]\n"
     ]
    }
   ],
   "source": [
    "# Example 2\n",
    "L = [3, 6, 9, 12, 5, 3, 2]\n",
    "print (\"L        -->\", L)\n",
    "\n",
    "print (\"\")\n",
    "print (\"L[1:3]   -->\",L[1:3])\n",
    "print (\"L[2:]    -->\",L[2:])   #upto end of the list\n",
    "print (\"L[2:5]   -->\",L[2:5]) \n",
    "print (\"L[:2]    -->\",L[:2])\n",
    "print (\"L[:-1]   -->\",L[:-1])\n",
    "print (\"L[-4:-1] -->\",L[-4:-1])  # excluding -1\n"
   ]
  },
  {
   "cell_type": "code",
   "execution_count": 2,
   "metadata": {},
   "outputs": [
    {
     "name": "stdout",
     "output_type": "stream",
     "text": [
      "L        --> [3, 6, 9, 12, 5, 3, 2]\n",
      "\n",
      "L[::1]   --> [3, 6, 9, 12, 5, 3, 2]\n",
      "L[::-1]  --> [2, 3, 5, 12, 9, 6, 3]\n",
      "L[::-2]  --> [2, 5, 9, 3]\n",
      "L[::2]   --> [3, 9, 5, 2]\n"
     ]
    }
   ],
   "source": [
    "# Example 3\n",
    "L = [3, 6, 9, 12, 5, 3, 2]\n",
    "print (\"L        -->\", L)\n",
    "\n",
    "print (\"\")\n",
    "print (\"L[::1]   -->\", L[::1])        # No change\n",
    "print (\"L[::-1]  -->\", L[::-1])       # Reverse\n",
    "print (\"L[::-2]  -->\", L[::-2])\n",
    "print (\"L[::2]   -->\", L[::2])"
   ]
  },
  {
   "cell_type": "markdown",
   "metadata": {},
   "source": [
    "### 1.6: Add element to list using append()"
   ]
  },
  {
   "cell_type": "code",
   "execution_count": 12,
   "metadata": {},
   "outputs": [
    {
     "name": "stdout",
     "output_type": "stream",
     "text": [
      "L --> ['Varun', 'Kumar', 3.14, 3]\n",
      "\n",
      "After Adding \"Rahul\" --> ['Varun', 'Kumar', 3.14, 3, 'Sonal']\n",
      "After Adding \"Anmol\" --> ['Varun', 'Kumar', 3.14, 3, 'Sonal', 'Singh']\n"
     ]
    }
   ],
   "source": [
    "#------------------------------------------------------------------------\n",
    "# 1.6: Adding element to list using append()\n",
    "#------------------------------------------------------------------------\n",
    "L =[\"Varun\", 'Kumar', 3.14, 3]\n",
    "print (\"L -->\", L)\n",
    "\n",
    "print (\"\")\n",
    "L.append(\"Sonal\")                 # Add element at last\n",
    "print ('After Adding \"Rahul\" -->', L)\n",
    "\n",
    "L.append(\"Singh\")                 # Add element at last\n",
    "print ('After Adding \"Anmol\" -->', L)\n"
   ]
  },
  {
   "cell_type": "markdown",
   "metadata": {},
   "source": [
    "### 1.7: Inserting element in list using insert()"
   ]
  },
  {
   "cell_type": "code",
   "execution_count": 13,
   "metadata": {},
   "outputs": [
    {
     "name": "stdout",
     "output_type": "stream",
     "text": [
      "L --> ['Varun', 'Kumar', 3.14, 3]\n",
      "\n",
      "After Insertion 'Rahul'   --> ['Varun', 'Kumar', 'Rahul', 3.14, 3]\n",
      "After Insertion 'Thapar'  --> ['Varun', 'Kumar', 'Rahul', 3.14, 3, 'Thapar']\n",
      "After Insertion 'SIH'     --> ['Varun', 'Kumar', 'Rahul', 3.14, 3, 'SIH', 'Thapar']\n",
      "After Insertion 'Sanchit' --> ['Varun', 'Kumar', 'Rahul', 3.14, 3, 'SIH', 'Thapar', 'Sanchit']\n"
     ]
    }
   ],
   "source": [
    "#------------------------------------------------------------------------\n",
    "# 1.7: Inserting element in list using insert()\n",
    "#------------------------------------------------------------------------\n",
    "L = [\"Varun\", 'Kumar', 3.14, 3]\n",
    "print (\"L -->\", L)\n",
    "\n",
    "print (\"\")\n",
    "L.insert(2, \"Rahul\")                        # Insert element at 2\n",
    "print (\"After Insertion 'Rahul'   -->\", L)\n",
    "\n",
    "L.insert(len(L), \"Thapar\")                  # Insert element at last\n",
    "print (\"After Insertion 'Thapar'  -->\", L)           \n",
    "\n",
    "L.insert(-1, \"SIH\")                         # Insert element at -1  \n",
    "print (\"After Insertion 'SIH'     -->\", L)           \n",
    "\n",
    "L.insert(10, \"Sanchit\")                     # No error; Element will be added at last\n",
    "print (\"After Insertion 'Sanchit' -->\", L)\n"
   ]
  },
  {
   "cell_type": "markdown",
   "metadata": {},
   "source": [
    "### 1.8: Add multiple elements to list using extend()\n",
    "The .append() method increases the length of the list by one, so if you want to add only one element to the list, you can use this method.\n",
    "The .extend() method increases the length of the list by the number of elements that are provided to the method, so if you want to add multiple elements to the list, you can use this method."
   ]
  },
  {
   "cell_type": "code",
   "execution_count": 14,
   "metadata": {},
   "outputs": [
    {
     "name": "stdout",
     "output_type": "stream",
     "text": [
      "L --> ['Varun', 'Kumar', 3.14, 3]\n",
      "\n",
      "After Adding 'Rahul' --> ['Varun', 'Kumar', 3.14, 3, 'R', 'a', 'h', 'u', 'l']\n"
     ]
    }
   ],
   "source": [
    "#------------------------------------------------------------------------\n",
    "# 1.8: Add multiple elements to list using extend()\n",
    "#------------------------------------------------------------------------\n",
    "# Example 1\n",
    "L = [\"Varun\", 'Kumar', 3.14, 3]\n",
    "print (\"L -->\", L)\n",
    "\n",
    "print (\"\")\n",
    "L.extend(\"Rahul\")                          # Add element at last\n",
    "print (\"After Adding 'Rahul' -->\", L)\n"
   ]
  },
  {
   "cell_type": "code",
   "execution_count": 15,
   "metadata": {},
   "outputs": [
    {
     "name": "stdout",
     "output_type": "stream",
     "text": [
      "L --> ['Varun', 'Kumar', 3.14, 3]\n",
      "\n",
      "After Adding 'Rahul' --> ['Varun', 'Kumar', 3.14, 3, 'Rahul']\n"
     ]
    }
   ],
   "source": [
    "# Example 2\n",
    "L = [\"Varun\", 'Kumar', 3.14, 3]\n",
    "print (\"L -->\", L)\n",
    "\n",
    "print (\"\")\n",
    "L.extend([\"Rahul\"])                        # Add element at last\n",
    "print (\"After Adding 'Rahul' -->\", L)\n"
   ]
  },
  {
   "cell_type": "code",
   "execution_count": null,
   "metadata": {},
   "outputs": [],
   "source": [
    "# Example 3\n",
    "L = [\"Varun\", 'Kumar', 3.14, 3]\n",
    "L1 = [\"Rahul\", \"Thapar\", 100, 200]\n",
    "print (\"L  -->\", L)\n",
    "print (\"L1 -->\", L1)\n",
    "\n",
    "print (\"\")\n",
    "L.extend(L1)    # Add element at last\n",
    "print (\"After Adding to L -->\", L)\n"
   ]
  },
  {
   "cell_type": "code",
   "execution_count": 16,
   "metadata": {},
   "outputs": [
    {
     "name": "stdout",
     "output_type": "stream",
     "text": [
      "L --> ['Varun', 'Kumar', 3.14, 3]\n",
      "\n",
      "After Adding L --> ['Varun', 'Kumar', 3.14, 3, 'Rahul', 'Thapar', 100, 200]\n"
     ]
    }
   ],
   "source": [
    "# Example 4\n",
    "L = [\"Varun\", 'Kumar', 3.14, 3]\n",
    "print (\"L -->\", L)\n",
    "\n",
    "print (\"\")\n",
    "L.extend([\"Rahul\", \"Thapar\", 100, 200])    # Add element at last\n",
    "print (\"After Adding L -->\", L)\n"
   ]
  },
  {
   "cell_type": "markdown",
   "metadata": {},
   "source": [
    "### 1.9: Deleting item from list using del"
   ]
  },
  {
   "cell_type": "code",
   "execution_count": 19,
   "metadata": {},
   "outputs": [
    {
     "name": "stdout",
     "output_type": "stream",
     "text": [
      "L                   --> ['Varun', 'Kumar', 3.14, 3, 6, 7, 8]\n",
      "Delete element at 1 --> ['Varun', 3.14, 3, 6, 7, 8]\n",
      "Delete element at 1 --> ['Varun', 3, 6, 7, 8]\n",
      "Delete element at -1--> ['Varun', 3, 6, 7]\n"
     ]
    },
    {
     "ename": "IndexError",
     "evalue": "list assignment index out of range",
     "output_type": "error",
     "traceback": [
      "\u001b[1;31m---------------------------------------------------------------------------\u001b[0m",
      "\u001b[1;31mIndexError\u001b[0m                                Traceback (most recent call last)",
      "\u001b[1;32m<ipython-input-19-1cc412b0a51c>\u001b[0m in \u001b[0;36m<module>\u001b[1;34m\u001b[0m\n\u001b[0;32m     14\u001b[0m \u001b[0mprint\u001b[0m \u001b[1;33m(\u001b[0m\u001b[1;34m\"Delete element at -1-->\"\u001b[0m\u001b[1;33m,\u001b[0m \u001b[0mL\u001b[0m\u001b[1;33m)\u001b[0m\u001b[1;33m\u001b[0m\u001b[1;33m\u001b[0m\u001b[0m\n\u001b[0;32m     15\u001b[0m \u001b[1;33m\u001b[0m\u001b[0m\n\u001b[1;32m---> 16\u001b[1;33m \u001b[1;32mdel\u001b[0m \u001b[0mL\u001b[0m\u001b[1;33m[\u001b[0m\u001b[1;36m15\u001b[0m\u001b[1;33m]\u001b[0m                               \u001b[1;31m# Error; index out of range; Exception should me handle\u001b[0m\u001b[1;33m\u001b[0m\u001b[1;33m\u001b[0m\u001b[0m\n\u001b[0m\u001b[0;32m     17\u001b[0m \u001b[0mprint\u001b[0m \u001b[1;33m(\u001b[0m\u001b[1;34m\"Delete element at 15 -->\"\u001b[0m\u001b[1;33m,\u001b[0m \u001b[0mL\u001b[0m\u001b[1;33m)\u001b[0m\u001b[1;33m\u001b[0m\u001b[1;33m\u001b[0m\u001b[0m\n\u001b[0;32m     18\u001b[0m \u001b[1;33m\u001b[0m\u001b[0m\n",
      "\u001b[1;31mIndexError\u001b[0m: list assignment index out of range"
     ]
    }
   ],
   "source": [
    "#------------------------------------------------------------------------\n",
    "# 1.9: Deleting item from list using del\n",
    "#------------------------------------------------------------------------\n",
    "L = [\"Varun\", 'Kumar', 3.14, 3, 6, 7, 8]\n",
    "print (\"L                   -->\", L)\n",
    "\n",
    "del L[1]                                # Delete element at 1\n",
    "print (\"Delete element at 1 -->\", L)\n",
    "\n",
    "del L[1]                                # Delete element at 1\n",
    "print (\"Delete element at 1 -->\", L)\n",
    "\n",
    "del L[-1]                               # Delete last element\n",
    "print (\"Delete element at -1-->\", L)\n",
    "\n",
    "del L[15]                               # Error; index out of range; Exception should me handle\n",
    "print (\"Delete element at 15 -->\", L)\n",
    "\n",
    "\n",
    "# Multiple elements cannot be remove using del\n"
   ]
  },
  {
   "cell_type": "markdown",
   "metadata": {},
   "source": [
    "### 1.10: Deleting from list using remove()"
   ]
  },
  {
   "cell_type": "code",
   "execution_count": 21,
   "metadata": {},
   "outputs": [
    {
     "name": "stdout",
     "output_type": "stream",
     "text": [
      "L                --> ['Varun', 'Kumar', 3.14, 3, 6, 7, 8]\n",
      "Remove element 3 --> ['Varun', 'Kumar', 3.14, 6, 7, 8]\n",
      "Remove element 6 --> ['Varun', 'Kumar', 3.14, 7, 8]\n"
     ]
    },
    {
     "ename": "ValueError",
     "evalue": "list.remove(x): x not in list",
     "output_type": "error",
     "traceback": [
      "\u001b[1;31m---------------------------------------------------------------------------\u001b[0m",
      "\u001b[1;31mValueError\u001b[0m                                Traceback (most recent call last)",
      "\u001b[1;32m<ipython-input-21-313f451b1771>\u001b[0m in \u001b[0;36m<module>\u001b[1;34m\u001b[0m\n\u001b[0;32m     11\u001b[0m \u001b[0mprint\u001b[0m \u001b[1;33m(\u001b[0m\u001b[1;34m\"Remove element 6 -->\"\u001b[0m\u001b[1;33m,\u001b[0m \u001b[0mL\u001b[0m\u001b[1;33m)\u001b[0m\u001b[1;33m\u001b[0m\u001b[1;33m\u001b[0m\u001b[0m\n\u001b[0;32m     12\u001b[0m \u001b[1;33m\u001b[0m\u001b[0m\n\u001b[1;32m---> 13\u001b[1;33m \u001b[0mL\u001b[0m\u001b[1;33m.\u001b[0m\u001b[0mremove\u001b[0m\u001b[1;33m(\u001b[0m\u001b[1;36m9\u001b[0m\u001b[1;33m)\u001b[0m                             \u001b[1;31m# Remove element 9\u001b[0m\u001b[1;33m\u001b[0m\u001b[1;33m\u001b[0m\u001b[0m\n\u001b[0m\u001b[0;32m     14\u001b[0m \u001b[0mprint\u001b[0m \u001b[1;33m(\u001b[0m\u001b[1;34m\"Delete element at 9 -->\"\u001b[0m\u001b[1;33m,\u001b[0m \u001b[0mL\u001b[0m\u001b[1;33m)\u001b[0m    \u001b[1;31m# Error; 9 is not present in L\u001b[0m\u001b[1;33m\u001b[0m\u001b[1;33m\u001b[0m\u001b[0m\n\u001b[0;32m     15\u001b[0m \u001b[1;33m\u001b[0m\u001b[0m\n",
      "\u001b[1;31mValueError\u001b[0m: list.remove(x): x not in list"
     ]
    }
   ],
   "source": [
    "#------------------------------------------------------------------------\n",
    "# 1.10: Deleting from list using remove() using value\n",
    "#------------------------------------------------------------------------\n",
    "L = [\"Varun\", 'Kumar', 3.14, 3, 6, 7, 8]\n",
    "print (\"L                -->\", L)\n",
    "\n",
    "L.remove(3)                             # Remove element 3\n",
    "print (\"Remove element 3 -->\", L)\n",
    "\n",
    "L.remove(6)                             # Remove element 6\n",
    "print (\"Remove element 6 -->\", L)\n",
    "\n",
    "L.remove(9)                             # Remove element 9 \n",
    "print (\"Delete element at 9 -->\", L)    # Error; 9 is not present in L\n",
    "\n",
    "# Multiple elements cannot be remove using remove\n"
   ]
  },
  {
   "cell_type": "markdown",
   "metadata": {},
   "source": [
    "### 1.11: Deleting from list using pop()"
   ]
  },
  {
   "cell_type": "code",
   "execution_count": 26,
   "metadata": {},
   "outputs": [
    {
     "name": "stdout",
     "output_type": "stream",
     "text": [
      "List           --> ['A', 'B', 'C', 'D']\n",
      "1. After pop   --> ['A', 'B', 'C']\n",
      "2. After pop(1)--> ['A', 'C']\n",
      "3. After pop   --> ['A']\n",
      "4. After pop   --> []\n"
     ]
    },
    {
     "ename": "IndexError",
     "evalue": "pop from empty list",
     "output_type": "error",
     "traceback": [
      "\u001b[1;31m---------------------------------------------------------------------------\u001b[0m",
      "\u001b[1;31mIndexError\u001b[0m                                Traceback (most recent call last)",
      "\u001b[1;32m<ipython-input-26-fc74d6683414>\u001b[0m in \u001b[0;36m<module>\u001b[1;34m\u001b[0m\n\u001b[0;32m     19\u001b[0m \u001b[0mprint\u001b[0m \u001b[1;33m(\u001b[0m\u001b[1;34m\"4. After pop   -->\"\u001b[0m\u001b[1;33m,\u001b[0m \u001b[0mL\u001b[0m\u001b[1;33m)\u001b[0m\u001b[1;33m\u001b[0m\u001b[1;33m\u001b[0m\u001b[0m\n\u001b[0;32m     20\u001b[0m \u001b[1;33m\u001b[0m\u001b[0m\n\u001b[1;32m---> 21\u001b[1;33m \u001b[0mL\u001b[0m\u001b[1;33m.\u001b[0m\u001b[0mpop\u001b[0m\u001b[1;33m(\u001b[0m\u001b[1;33m)\u001b[0m                         \u001b[1;31m# Error; List is empty; Underflow\u001b[0m\u001b[1;33m\u001b[0m\u001b[1;33m\u001b[0m\u001b[0m\n\u001b[0m\u001b[0;32m     22\u001b[0m \u001b[0mprint\u001b[0m \u001b[1;33m(\u001b[0m\u001b[1;34m\"5. After pop   -->\"\u001b[0m\u001b[1;33m,\u001b[0m \u001b[0mL\u001b[0m\u001b[1;33m)\u001b[0m\u001b[1;33m\u001b[0m\u001b[1;33m\u001b[0m\u001b[0m\n\u001b[0;32m     23\u001b[0m \u001b[1;33m\u001b[0m\u001b[0m\n",
      "\u001b[1;31mIndexError\u001b[0m: pop from empty list"
     ]
    }
   ],
   "source": [
    "#------------------------------------------------------------------------\n",
    "# 1.11: Deleting from list using pop()\n",
    "#------------------------------------------------------------------------\n",
    "# Pop: Delete last element from list\n",
    "\n",
    "L = ['A', 'B', 'C', 'D']\n",
    "print (\"List           -->\", L)\n",
    "\n",
    "L.pop()                         # Delete last element\n",
    "print (\"1. After pop   -->\", L)\n",
    "\n",
    "L.pop(1)                        # Delete element of location 1\n",
    "print (\"2. After pop(1)-->\", L)\n",
    "\n",
    "L.pop()                         # Delete last element\n",
    "print (\"3. After pop   -->\", L)\n",
    "\n",
    "L.pop()                         # Delete last element\n",
    "print (\"4. After pop   -->\", L)\n",
    "\n",
    "L.pop()                         # Error; List is empty; Underflow\n",
    "print (\"5. After pop   -->\", L)\n",
    "\n",
    "#Note: If list is empty, pop() will raise an exception\n"
   ]
  },
  {
   "cell_type": "markdown",
   "metadata": {},
   "source": [
    "### 1.12: Deleting list"
   ]
  },
  {
   "cell_type": "code",
   "execution_count": 28,
   "metadata": {},
   "outputs": [
    {
     "name": "stdout",
     "output_type": "stream",
     "text": [
      "List           --> ['A', 'B', 'C', 'D']\n"
     ]
    },
    {
     "ename": "NameError",
     "evalue": "name 'L' is not defined",
     "output_type": "error",
     "traceback": [
      "\u001b[1;31m---------------------------------------------------------------------------\u001b[0m",
      "\u001b[1;31mNameError\u001b[0m                                 Traceback (most recent call last)",
      "\u001b[1;32m<ipython-input-28-826cc718dcbd>\u001b[0m in \u001b[0;36m<module>\u001b[1;34m\u001b[0m\n\u001b[0;32m     11\u001b[0m \u001b[1;33m\u001b[0m\u001b[0m\n\u001b[0;32m     12\u001b[0m \u001b[1;32mdel\u001b[0m \u001b[0mL\u001b[0m                        \u001b[1;31m# Delete List\u001b[0m\u001b[1;33m\u001b[0m\u001b[1;33m\u001b[0m\u001b[0m\n\u001b[1;32m---> 13\u001b[1;33m \u001b[0mprint\u001b[0m \u001b[1;33m(\u001b[0m\u001b[1;34m\"List           -->\"\u001b[0m\u001b[1;33m,\u001b[0m \u001b[0mL\u001b[0m\u001b[1;33m)\u001b[0m\u001b[1;33m\u001b[0m\u001b[1;33m\u001b[0m\u001b[0m\n\u001b[0m",
      "\u001b[1;31mNameError\u001b[0m: name 'L' is not defined"
     ]
    }
   ],
   "source": [
    "#------------------------------------------------------------------------\n",
    "# 1.12: Deleting list\n",
    "#------------------------------------------------------------------------\n",
    "# del is a keyword and remove(), pop() are in-built methods.\n",
    "# The purpose of these three are same but the behavior is different\n",
    "# remove() method delete values or object from the list using value \n",
    "# del and pop() deletes values or object from the list using an index.\n",
    "\n",
    "L = ['A', 'B', 'C', 'D']\n",
    "print (\"List           -->\", L)\n",
    "\n",
    "del L                        # Delete List\n",
    "print (\"List           -->\", L)\n"
   ]
  },
  {
   "cell_type": "markdown",
   "metadata": {},
   "source": [
    "### 1.13: Sum/Average of List"
   ]
  },
  {
   "cell_type": "code",
   "execution_count": 3,
   "metadata": {},
   "outputs": [
    {
     "name": "stdout",
     "output_type": "stream",
     "text": [
      "L       --> [3, 6, 9, 12, 5, 3, 2]\n",
      "Sum     --> 40\n",
      "Average --> 5.714285714285714\n",
      "Average --> 5\n"
     ]
    }
   ],
   "source": [
    "#------------------------------------------------------------------------\n",
    "# 1.13: Sum/Average of List\n",
    "#------------------------------------------------------------------------\n",
    "L = [3, 6, 9, 12, 5, 3, 2]\n",
    "\n",
    "print (\"L       -->\", L)\n",
    "print (\"Sum     -->\", sum(L))\n",
    "print (\"Average -->\", sum(L)/len(L))\n",
    "print (\"Average -->\", sum(L)//len(L))\n"
   ]
  },
  {
   "cell_type": "markdown",
   "metadata": {},
   "source": [
    "### 1.14: Min/Max in the list"
   ]
  },
  {
   "cell_type": "code",
   "execution_count": 31,
   "metadata": {},
   "outputs": [
    {
     "name": "stdout",
     "output_type": "stream",
     "text": [
      "L   --> [3, 6, 9, 12, 5, 3, 2]\n",
      "Max --> 12\n",
      "Min --> 2\n"
     ]
    }
   ],
   "source": [
    "#------------------------------------------------------------------------\n",
    "# 1.14: Min/Max in the list\n",
    "#------------------------------------------------------------------------\n",
    "# Example 1\n",
    "L = [3, 6, 9, 12, 5, 3, 2]                # Integer List\n",
    "print (\"L   -->\", L)\n",
    "print (\"Max -->\", max(L))\n",
    "print (\"Min -->\", min(L))\n"
   ]
  },
  {
   "cell_type": "code",
   "execution_count": 35,
   "metadata": {},
   "outputs": [
    {
     "name": "stdout",
     "output_type": "stream",
     "text": [
      "L   --> ['Ram', 'Shyam', 'Human', 'Ant']\n",
      "Max --> Shyam\n",
      "Min --> Ant\n"
     ]
    }
   ],
   "source": [
    "# Example 2\n",
    "L = [\"Ram\", \"Shyam\", \"Human\", \"Ant\"]      # String List\n",
    "print (\"L   -->\", L)\n",
    "print (\"Max -->\", max(L))\n",
    "print (\"Min -->\", min(L))\n"
   ]
  },
  {
   "cell_type": "code",
   "execution_count": 33,
   "metadata": {},
   "outputs": [
    {
     "name": "stdout",
     "output_type": "stream",
     "text": [
      "L   --> ['Ram', 'Shyam', 10, 30]\n"
     ]
    },
    {
     "ename": "TypeError",
     "evalue": "'>' not supported between instances of 'int' and 'str'",
     "output_type": "error",
     "traceback": [
      "\u001b[1;31m---------------------------------------------------------------------------\u001b[0m",
      "\u001b[1;31mTypeError\u001b[0m                                 Traceback (most recent call last)",
      "\u001b[1;32m<ipython-input-33-211f25b963b1>\u001b[0m in \u001b[0;36m<module>\u001b[1;34m\u001b[0m\n\u001b[0;32m      2\u001b[0m \u001b[0mL\u001b[0m \u001b[1;33m=\u001b[0m \u001b[1;33m[\u001b[0m\u001b[1;34m\"Ram\"\u001b[0m\u001b[1;33m,\u001b[0m \u001b[1;34m\"Shyam\"\u001b[0m\u001b[1;33m,\u001b[0m \u001b[1;36m10\u001b[0m\u001b[1;33m,\u001b[0m \u001b[1;36m30\u001b[0m\u001b[1;33m]\u001b[0m              \u001b[1;31m# Mixed List\u001b[0m\u001b[1;33m\u001b[0m\u001b[1;33m\u001b[0m\u001b[0m\n\u001b[0;32m      3\u001b[0m \u001b[0mprint\u001b[0m \u001b[1;33m(\u001b[0m\u001b[1;34m\"L   -->\"\u001b[0m\u001b[1;33m,\u001b[0m \u001b[0mL\u001b[0m\u001b[1;33m)\u001b[0m\u001b[1;33m\u001b[0m\u001b[1;33m\u001b[0m\u001b[0m\n\u001b[1;32m----> 4\u001b[1;33m \u001b[0mprint\u001b[0m \u001b[1;33m(\u001b[0m\u001b[1;34m\"Max -->\"\u001b[0m\u001b[1;33m,\u001b[0m \u001b[0mmax\u001b[0m\u001b[1;33m(\u001b[0m\u001b[0mL\u001b[0m\u001b[1;33m)\u001b[0m\u001b[1;33m)\u001b[0m                \u001b[1;31m#Error; Exception should me handle\u001b[0m\u001b[1;33m\u001b[0m\u001b[1;33m\u001b[0m\u001b[0m\n\u001b[0m\u001b[0;32m      5\u001b[0m \u001b[0mprint\u001b[0m \u001b[1;33m(\u001b[0m\u001b[1;34m\"Min -->\"\u001b[0m\u001b[1;33m,\u001b[0m \u001b[0mmin\u001b[0m\u001b[1;33m(\u001b[0m\u001b[0mL\u001b[0m\u001b[1;33m)\u001b[0m\u001b[1;33m)\u001b[0m\u001b[1;33m\u001b[0m\u001b[1;33m\u001b[0m\u001b[0m\n\u001b[0;32m      6\u001b[0m \u001b[1;33m\u001b[0m\u001b[0m\n",
      "\u001b[1;31mTypeError\u001b[0m: '>' not supported between instances of 'int' and 'str'"
     ]
    }
   ],
   "source": [
    "# Example 3\n",
    "L = [\"Ram\", \"Shyam\", 10, 30]              # Mixed List\n",
    "print (\"L   -->\", L)\n",
    "print (\"Max -->\", max(L))                #Error; Exception should me handle\n",
    "print (\"Min -->\", min(L))\n",
    "\n",
    "## Assingment: Solve this issue"
   ]
  },
  {
   "cell_type": "markdown",
   "metadata": {},
   "source": [
    "### 1.15: Sort the of List using sort()"
   ]
  },
  {
   "cell_type": "code",
   "execution_count": 36,
   "metadata": {},
   "outputs": [
    {
     "name": "stdout",
     "output_type": "stream",
     "text": [
      "L                     --> [3, 6, 9, 12, 5, 3, 2]\n",
      "After Sort (Asending) --> [2, 3, 3, 5, 6, 9, 12]\n"
     ]
    }
   ],
   "source": [
    "#------------------------------------------------------------------------\n",
    "# 1.15: Sort the of List using sort()\n",
    "#------------------------------------------------------------------------\n",
    "#Example 1\n",
    "L = [3, 6, 9, 12, 5, 3, 2]\n",
    "print (\"L                     -->\", L)\n",
    "\n",
    "L.sort()                       # Sort in asending order and save back to L\n",
    "print (\"After Sort (Asending) -->\", L)\n"
   ]
  },
  {
   "cell_type": "code",
   "execution_count": 37,
   "metadata": {},
   "outputs": [
    {
     "name": "stdout",
     "output_type": "stream",
     "text": [
      "L                     --> [3, 6, 9, 12, 5, 3, 2]\n",
      "After Sort (Desending)--> [12, 9, 6, 5, 3, 3, 2]\n"
     ]
    }
   ],
   "source": [
    "#Example 2\n",
    "L = [3, 6, 9, 12, 5, 3, 2]\n",
    "print (\"L                     -->\", L)\n",
    "\n",
    "L.sort(reverse = True)         # Sort in decending order and save to L\n",
    "print (\"After Sort (Desending)-->\", L)\n"
   ]
  },
  {
   "cell_type": "markdown",
   "metadata": {},
   "source": [
    "### 1.16: Sort the of List using sorted()"
   ]
  },
  {
   "cell_type": "code",
   "execution_count": 40,
   "metadata": {},
   "outputs": [
    {
     "name": "stdout",
     "output_type": "stream",
     "text": [
      "L               --> [3, 6, 9, 12, 5, 3, 2]\n",
      "After sorted()) --> [3, 6, 9, 12, 5, 3, 2]\n",
      "[2, 3, 3, 5, 6, 9, 12]\n"
     ]
    }
   ],
   "source": [
    "#------------------------------------------------------------------------\n",
    "# 1.16: Sort the of List using sorted()\n",
    "#------------------------------------------------------------------------\n",
    "# Example 1\n",
    "L = [3, 6, 9, 12, 5, 3, 2]\n",
    "print (\"L               -->\", L)\n",
    "\n",
    "L1= sorted(L)                       # No Change in L\n",
    "print (\"After sorted()) -->\", L)\n",
    "print(L1)\n",
    "\n"
   ]
  },
  {
   "cell_type": "code",
   "execution_count": 41,
   "metadata": {},
   "outputs": [
    {
     "name": "stdout",
     "output_type": "stream",
     "text": [
      "L               --> [3, 6, 9, 12, 5, 3, 2]\n",
      "After sorted()) --> [12, 9, 6, 5, 3, 3, 2]\n"
     ]
    }
   ],
   "source": [
    "# Example 2\n",
    "L = [3, 6, 9, 12, 5, 3, 2]\n",
    "print (\"L               -->\", L)\n",
    "\n",
    "L = sorted(L,reverse = True)     # Sort in decending order and assign to L\n",
    "print (\"After sorted()) -->\", L)\n"
   ]
  },
  {
   "cell_type": "code",
   "execution_count": 42,
   "metadata": {},
   "outputs": [
    {
     "name": "stdout",
     "output_type": "stream",
     "text": [
      "L                  --> [3, 6, 9, 12, 5, 3, 2]\n",
      "L After sorted())  --> [3, 6, 9, 12, 5, 3, 2]\n",
      "L1 After sorted()) --> [2, 3, 3, 5, 6, 9, 12]\n"
     ]
    }
   ],
   "source": [
    "# Example 3\n",
    "L = [3, 6, 9, 12, 5, 3, 2]\n",
    "print (\"L                  -->\", L)\n",
    "\n",
    "L1 = sorted(L)                     # Sort in assending order but No change in L\n",
    "print (\"L After sorted())  -->\", L)\n",
    "print (\"L1 After sorted()) -->\", L1)\n"
   ]
  },
  {
   "cell_type": "markdown",
   "metadata": {},
   "source": [
    "### 1.17: Multiply the List with a number"
   ]
  },
  {
   "cell_type": "code",
   "execution_count": 45,
   "metadata": {},
   "outputs": [
    {
     "name": "stdout",
     "output_type": "stream",
     "text": [
      "L     --> [3, 6, 9, 12, 5, 3, 2]\n",
      "L * 1 --> [3, 6, 9, 12, 5, 3, 2]\n",
      "L * 2 --> [3, 6, 9, 12, 5, 3, 2, 3, 6, 9, 12, 5, 3, 2]\n",
      "L * 3 --> [3, 6, 9, 12, 5, 3, 2, 3, 6, 9, 12, 5, 3, 2, 3, 6, 9, 12, 5, 3, 2]\n",
      "L + L --> [3, 6, 9, 12, 5, 3, 2, 3, 6, 9, 12, 5, 3, 2]\n"
     ]
    },
    {
     "ename": "TypeError",
     "evalue": "can't multiply sequence by non-int of type 'list'",
     "output_type": "error",
     "traceback": [
      "\u001b[1;31m---------------------------------------------------------------------------\u001b[0m",
      "\u001b[1;31mTypeError\u001b[0m                                 Traceback (most recent call last)",
      "\u001b[1;32m<ipython-input-45-a947deb11e60>\u001b[0m in \u001b[0;36m<module>\u001b[1;34m\u001b[0m\n\u001b[0;32m      8\u001b[0m \u001b[0mprint\u001b[0m \u001b[1;33m(\u001b[0m\u001b[1;34m\"L * 3 -->\"\u001b[0m\u001b[1;33m,\u001b[0m \u001b[0mL\u001b[0m \u001b[1;33m*\u001b[0m \u001b[1;36m3\u001b[0m\u001b[1;33m)\u001b[0m\u001b[1;33m\u001b[0m\u001b[1;33m\u001b[0m\u001b[0m\n\u001b[0;32m      9\u001b[0m \u001b[0mprint\u001b[0m \u001b[1;33m(\u001b[0m\u001b[1;34m\"L + L -->\"\u001b[0m\u001b[1;33m,\u001b[0m \u001b[0mL\u001b[0m \u001b[1;33m+\u001b[0m \u001b[0mL\u001b[0m\u001b[1;33m)\u001b[0m\u001b[1;33m\u001b[0m\u001b[1;33m\u001b[0m\u001b[0m\n\u001b[1;32m---> 10\u001b[1;33m \u001b[0mprint\u001b[0m \u001b[1;33m(\u001b[0m\u001b[1;34m\"L * L -->\"\u001b[0m\u001b[1;33m,\u001b[0m \u001b[0mL\u001b[0m \u001b[1;33m*\u001b[0m \u001b[0mL\u001b[0m\u001b[1;33m)\u001b[0m       \u001b[1;31m# Error; Exception should me handle\u001b[0m\u001b[1;33m\u001b[0m\u001b[1;33m\u001b[0m\u001b[0m\n\u001b[0m",
      "\u001b[1;31mTypeError\u001b[0m: can't multiply sequence by non-int of type 'list'"
     ]
    }
   ],
   "source": [
    "#------------------------------------------------------------------------\n",
    "# 1.17: Multiply the List with a number\n",
    "#------------------------------------------------------------------------\n",
    "L = [3, 6, 9, 12, 5, 3, 2]\n",
    "print (\"L     -->\", L)\n",
    "print (\"L * 1 -->\", L * 1)\n",
    "print (\"L * 2 -->\", L * 2)\n",
    "print (\"L * 3 -->\", L * 3)\n",
    "print (\"L + L -->\", L + L)\n",
    "print (\"L * L -->\", L * L)       # Error; Exception should me handle\n"
   ]
  },
  {
   "cell_type": "markdown",
   "metadata": {},
   "source": [
    "### 1.18: Increment the every element of List by n"
   ]
  },
  {
   "cell_type": "code",
   "execution_count": 47,
   "metadata": {},
   "outputs": [
    {
     "name": "stdout",
     "output_type": "stream",
     "text": [
      "L1 --> [3, 6, 9, 12, 5, 3, 2]\n",
      "L2 --> [13, 16, 19, 22, 15, 13, 12]\n"
     ]
    }
   ],
   "source": [
    "#------------------------------------------------------------------------\n",
    "# 1.18: Increment the every element of List by n\n",
    "#------------------------------------------------------------------------\n",
    "# Example 1\n",
    "L1 = [3, 6, 9, 12, 5, 3, 2]\n",
    "n = 10\n",
    "\n",
    "L2 = []  #empty list\n",
    "for i in L1:\n",
    "    L2.append(i + n)\n",
    "\n",
    "print (\"L1 -->\", L1)\n",
    "print (\"L2 -->\", L2)\n"
   ]
  },
  {
   "cell_type": "code",
   "execution_count": 48,
   "metadata": {},
   "outputs": [
    {
     "name": "stdout",
     "output_type": "stream",
     "text": [
      "L1 --> [3, 6, 9, 12, 5, 3, 2]\n",
      "L2 --> [13, 16, 19, 22, 15, 13, 12]\n"
     ]
    }
   ],
   "source": [
    "# Example 2\n",
    "L1 = [3, 6, 9, 12, 5, 3, 2]\n",
    "n = 10\n",
    "\n",
    "L2 = []    # Optional\n",
    "\n",
    "L2 = [ i + n for i in L1]     # L2 is re-initialized\n",
    "\n",
    "print (\"L1 -->\", L1)\n",
    "print (\"L2 -->\", L2)\n"
   ]
  },
  {
   "cell_type": "markdown",
   "metadata": {},
   "source": [
    "### 1.19: Multiply the every element of List by n"
   ]
  },
  {
   "cell_type": "code",
   "execution_count": null,
   "metadata": {},
   "outputs": [],
   "source": [
    "#------------------------------------------------------------------------\n",
    "# 1.19: Multiply the every element of List by n\n",
    "#------------------------------------------------------------------------\n",
    "# Example 1\n",
    "L = [3, 6, 9, 12, 5, 3, 2]\n",
    "n = 10\n",
    "\n",
    "L1 = []     # Must be declare\n",
    "\n",
    "for i in L:\n",
    "    L1.append(i * n)\n",
    "\n",
    "print (\"L  -->\", L)\n",
    "print (\"L1 -->\", L1)\n"
   ]
  },
  {
   "cell_type": "code",
   "execution_count": null,
   "metadata": {},
   "outputs": [],
   "source": [
    "# Example 2\n",
    "L = [3, 6, 9, 12, 5, 3, 2]\n",
    "n = 10\n",
    "\n",
    "L1 = []         # Optional\n",
    "\n",
    "L1 = [ i * n for i in L]      # L1 is re-initialized\n",
    "\n",
    "print (\"\")\n",
    "print (\"L  -->\", L)\n",
    "print (\"L1 -->\", L1)\n"
   ]
  },
  {
   "cell_type": "markdown",
   "metadata": {},
   "source": [
    "### 1.20: Generate a list of n random numbers between 1, 100"
   ]
  },
  {
   "cell_type": "code",
   "execution_count": 52,
   "metadata": {},
   "outputs": [
    {
     "name": "stdout",
     "output_type": "stream",
     "text": [
      "L --> [84, 31, 17, 42, 40, 55, 20, 80, 54, 9]\n"
     ]
    }
   ],
   "source": [
    "#------------------------------------------------------------------------\n",
    "# 1.20: Generate a list of n random numbers between 1, 100\n",
    "#------------------------------------------------------------------------\n",
    "# Example 1\n",
    "import random as r   #alias name\n",
    "#random is a package\n",
    "\n",
    "n = 10\n",
    "L = []               # Must be declare\n",
    "for i in range(n):\n",
    "    L.append(r.randint(1,100))\n",
    "    \n",
    "print (\"L -->\", L)\n"
   ]
  },
  {
   "cell_type": "code",
   "execution_count": 54,
   "metadata": {},
   "outputs": [
    {
     "name": "stdout",
     "output_type": "stream",
     "text": [
      "L --> [45, 42, 99, 28, 68, 35, 84, 33]\n"
     ]
    }
   ],
   "source": [
    "# Example 2\n",
    "import random as r\n",
    "\n",
    "n = 8\n",
    "L = []            # Optional\n",
    "L = [ r.randint(1,100) for i in range(n)]\n",
    "\n",
    "print (\"L -->\", L)\n"
   ]
  },
  {
   "cell_type": "markdown",
   "metadata": {},
   "source": [
    "### 1.21: Generate a list of n random strings of length m"
   ]
  },
  {
   "cell_type": "code",
   "execution_count": 55,
   "metadata": {},
   "outputs": [
    {
     "name": "stdout",
     "output_type": "stream",
     "text": [
      "L --> ['MOATf', 'ZeUNf', 'qOcVf', 'IQzmu', 'sjyIS', 'iRYVx', 'khEtg', 'rhfGF', 'sJUoO', 'rlwnt']\n"
     ]
    }
   ],
   "source": [
    "#------------------------------------------------------------------------\n",
    "# 1.21: Generate a list of n random strings of length m\n",
    "#------------------------------------------------------------------------\n",
    "# Example 1\n",
    "import random as r\n",
    "import string as s #string is another module\n",
    "\n",
    "n = 10\n",
    "m = 5\n",
    "\n",
    "L = []         # Must be declare\n",
    "for i in range(n):\n",
    "    L.append(\"\".join(r.sample(s.ascii_letters, m)))\n",
    "    \n",
    "print (\"L -->\", L)\n"
   ]
  },
  {
   "cell_type": "code",
   "execution_count": 56,
   "metadata": {},
   "outputs": [
    {
     "name": "stdout",
     "output_type": "stream",
     "text": [
      "L --> ['CPzyx', 'FaSvQ', 'coxlv', 'pIyOR', 'YIqaP', 'ceHVo', 'tiRxA', 'QWCdt', 'rYTgz', 'JxYTP']\n"
     ]
    }
   ],
   "source": [
    "# Example 2\n",
    "import random as r\n",
    "import string as s\n",
    "\n",
    "n = 10\n",
    "m = 5\n",
    "\n",
    "L = []          # Optional\n",
    "L = [ \"\".join(r.sample(s.ascii_letters, m)) for i in range(n)]\n",
    "\n",
    "print (\"L -->\", L)\n"
   ]
  },
  {
   "cell_type": "markdown",
   "metadata": {},
   "source": [
    "### 1.22: Generate a list of n random strings of variable length (5, 10)"
   ]
  },
  {
   "cell_type": "code",
   "execution_count": 57,
   "metadata": {},
   "outputs": [
    {
     "name": "stdout",
     "output_type": "stream",
     "text": [
      "List --> ['JWxKQ', 'ugJNWLXwA', 'BvcdKIxOo', 'VMgyHl', 'LchAdCDT']\n"
     ]
    }
   ],
   "source": [
    "#------------------------------------------------------------------------\n",
    "# 1.22: Generate a list of n random strings of variable length (5, 10)\n",
    "#------------------------------------------------------------------------\n",
    "# Example 1\n",
    "import random as r\n",
    "import string as s\n",
    "\n",
    "n = 5\n",
    "\n",
    "L = []         # Must be declare\n",
    "for i in range(n): #upto 5 times\n",
    "    L.append(\"\".join(r.sample(s.ascii_letters, r.randint(5,10))))\n",
    "    \n",
    "print (\"List -->\", L)\n"
   ]
  },
  {
   "cell_type": "code",
   "execution_count": 58,
   "metadata": {},
   "outputs": [
    {
     "name": "stdout",
     "output_type": "stream",
     "text": [
      "List --> ['kjISQi', 'DJPhdNGAz', 'CfyhbXYRS', 'qWyJRpc', 'oaEjupdDfS']\n"
     ]
    }
   ],
   "source": [
    "# Example 2\n",
    "import random as r\n",
    "import string as s\n",
    "\n",
    "n = 5\n",
    "\n",
    "L = []         # Optional\n",
    "L = [ \"\".join(r.sample(s.ascii_letters, r.randint(5,10))) for i in range(n)]\n",
    "\n",
    "print (\"List -->\", L)"
   ]
  },
  {
   "cell_type": "markdown",
   "metadata": {},
   "source": [
    "### 1.23: Searching in the list"
   ]
  },
  {
   "cell_type": "code",
   "execution_count": 60,
   "metadata": {},
   "outputs": [
    {
     "name": "stdout",
     "output_type": "stream",
     "text": [
      "L       --> [3, 6, 9, 12, 5, 3, 2]\n",
      "\n",
      "6  in L --> True\n",
      "10 in L --> False\n",
      "12 in L --> True\n"
     ]
    }
   ],
   "source": [
    "#------------------------------------------------------------------------\n",
    "# 1.23: Searching in the list\n",
    "#------------------------------------------------------------------------\n",
    "L = [3, 6, 9, 12, 5, 3, 2]\n",
    "print (\"L       -->\", L)\n",
    "\n",
    "print (\"\")\n",
    "print (\"6  in L -->\", 6 in L)  #item in List name\n",
    "print (\"10 in L -->\", 10 in L)\n",
    "print (\"12 in L -->\", 12 in L)\n"
   ]
  },
  {
   "cell_type": "markdown",
   "metadata": {},
   "source": [
    "### 1.24: Merging lists"
   ]
  },
  {
   "cell_type": "code",
   "execution_count": 61,
   "metadata": {},
   "outputs": [
    {
     "name": "stdout",
     "output_type": "stream",
     "text": [
      "L1 --> [3, 6, 9]\n",
      "L2 --> [12, 5, 3, 2]\n",
      "L3 --> [3, 6, 9, 12, 5, 3, 2]\n",
      "L4 --> [3, 6, 9, 12, 5, 3, 2, 3, 6, 9, 12, 5, 3, 2]\n"
     ]
    }
   ],
   "source": [
    "#------------------------------------------------------------------------\n",
    "# 1.24: Merging lists\n",
    "#------------------------------------------------------------------------\n",
    "L1 = [3, 6, 9]\n",
    "L2 = [12, 5, 3, 2]\n",
    "\n",
    "print (\"L1 -->\", L1)\n",
    "print (\"L2 -->\", L2)\n",
    "\n",
    "L3 = L1 + L2\n",
    "print (\"L3 -->\", L3)\n",
    "\n",
    "L4 = L1 + L2 + L1 + L2\n",
    "print (\"L4 -->\", L4)\n"
   ]
  },
  {
   "cell_type": "markdown",
   "metadata": {},
   "source": [
    "### 1.25: Merging part of lists"
   ]
  },
  {
   "cell_type": "code",
   "execution_count": 63,
   "metadata": {},
   "outputs": [
    {
     "name": "stdout",
     "output_type": "stream",
     "text": [
      "L1 --> [3, 6, 9]\n",
      "L2 --> [12, 5, 3, 2]\n",
      "L3 --> [6, 5, 3]\n",
      "L4 --> [3, 12]\n"
     ]
    }
   ],
   "source": [
    "#------------------------------------------------------------------------\n",
    "# 1.25: Merging part of lists\n",
    "#------------------------------------------------------------------------\n",
    "L1 = [3, 6, 9]\n",
    "L2 = [12, 5, 3, 2]\n",
    "\n",
    "print (\"L1 -->\", L1)\n",
    "print (\"L2 -->\", L2)\n",
    "\n",
    "L3 = L1[1:2] + L2[1:3]    #you can use slicing in merging the list\n",
    "print (\"L3 -->\", L3)\n",
    "\n",
    "L4 = L1[:-2] + L2[:-3]\n",
    "print (\"L4 -->\", L4)\n"
   ]
  },
  {
   "cell_type": "markdown",
   "metadata": {},
   "source": [
    "### 1.26: Get the index of an elements in List"
   ]
  },
  {
   "cell_type": "code",
   "execution_count": 65,
   "metadata": {},
   "outputs": [
    {
     "name": "stdout",
     "output_type": "stream",
     "text": [
      "L               --> [3, 6, 9, 12, 5, 3, 2]\n",
      "\n",
      "Index of 9 in L --> 2\n",
      "Index of 2 in L --> 6\n",
      "Index of 5 in L --> 4\n"
     ]
    },
    {
     "ename": "ValueError",
     "evalue": "7 is not in list",
     "output_type": "error",
     "traceback": [
      "\u001b[1;31m---------------------------------------------------------------------------\u001b[0m",
      "\u001b[1;31mValueError\u001b[0m                                Traceback (most recent call last)",
      "\u001b[1;32m<ipython-input-65-d1635d1fb396>\u001b[0m in \u001b[0;36m<module>\u001b[1;34m\u001b[0m\n\u001b[0;32m      9\u001b[0m \u001b[0mprint\u001b[0m \u001b[1;33m(\u001b[0m\u001b[1;34m\"Index of 2 in L -->\"\u001b[0m\u001b[1;33m,\u001b[0m \u001b[0mL\u001b[0m\u001b[1;33m.\u001b[0m\u001b[0mindex\u001b[0m\u001b[1;33m(\u001b[0m\u001b[1;36m2\u001b[0m\u001b[1;33m)\u001b[0m\u001b[1;33m)\u001b[0m\u001b[1;33m\u001b[0m\u001b[1;33m\u001b[0m\u001b[0m\n\u001b[0;32m     10\u001b[0m \u001b[0mprint\u001b[0m \u001b[1;33m(\u001b[0m\u001b[1;34m\"Index of 5 in L -->\"\u001b[0m\u001b[1;33m,\u001b[0m \u001b[0mL\u001b[0m\u001b[1;33m.\u001b[0m\u001b[0mindex\u001b[0m\u001b[1;33m(\u001b[0m\u001b[1;36m5\u001b[0m\u001b[1;33m)\u001b[0m\u001b[1;33m)\u001b[0m\u001b[1;33m\u001b[0m\u001b[1;33m\u001b[0m\u001b[0m\n\u001b[1;32m---> 11\u001b[1;33m \u001b[0mprint\u001b[0m \u001b[1;33m(\u001b[0m\u001b[1;34m\"Index of 7 in L -->\"\u001b[0m\u001b[1;33m,\u001b[0m \u001b[0mL\u001b[0m\u001b[1;33m.\u001b[0m\u001b[0mindex\u001b[0m\u001b[1;33m(\u001b[0m\u001b[1;36m7\u001b[0m\u001b[1;33m)\u001b[0m\u001b[1;33m)\u001b[0m        \u001b[1;31m# Error; 7 is not is List\u001b[0m\u001b[1;33m\u001b[0m\u001b[1;33m\u001b[0m\u001b[0m\n\u001b[0m",
      "\u001b[1;31mValueError\u001b[0m: 7 is not in list"
     ]
    }
   ],
   "source": [
    "#------------------------------------------------------------------------\n",
    "# 1.26: Get the index of an elements in List\n",
    "#------------------------------------------------------------------------\n",
    "L = [3, 6, 9, 12, 5, 3, 2]\n",
    "print (\"L               -->\", L)\n",
    "\n",
    "print (\"\")\n",
    "print (\"Index of 9 in L -->\", L.index(9))\n",
    "print (\"Index of 2 in L -->\", L.index(2))\n",
    "print (\"Index of 5 in L -->\", L.index(5))\n",
    "print (\"Index of 7 in L -->\", L.index(7))        # Error; 7 is not is List\n"
   ]
  },
  {
   "cell_type": "markdown",
   "metadata": {},
   "source": [
    "### 1.27: Count element in List"
   ]
  },
  {
   "cell_type": "code",
   "execution_count": 66,
   "metadata": {},
   "outputs": [
    {
     "name": "stdout",
     "output_type": "stream",
     "text": [
      "L     --> [3, 6, 9, 6, 5, 3, 2]\n",
      "\n",
      "L.count(3) --> 2\n",
      "L.count(2) --> 1\n",
      "L.count(5) --> 1\n",
      "L.count(4) --> 0\n"
     ]
    }
   ],
   "source": [
    "#------------------------------------------------------------------------\n",
    "# 1.27: Count element in List\n",
    "#------------------------------------------------------------------------\n",
    "L = [3, 6, 9, 6, 5, 3, 2]\n",
    "print (\"L     -->\", L)\n",
    "\n",
    "print (\"\")\n",
    "print (\"L.count(3) -->\", L.count(3))\n",
    "print (\"L.count(2) -->\", L.count(2))\n",
    "print (\"L.count(5) -->\", L.count(5))\n",
    "print (\"L.count(4) -->\", L.count(4))\n",
    "\n"
   ]
  },
  {
   "cell_type": "markdown",
   "metadata": {},
   "source": [
    "### 1.28: Reverse the List"
   ]
  },
  {
   "cell_type": "code",
   "execution_count": 67,
   "metadata": {},
   "outputs": [
    {
     "name": "stdout",
     "output_type": "stream",
     "text": [
      "L               --> [3, 6, 9, 6, 5, 3, 2]\n",
      "L after reverse --> [2, 3, 5, 6, 9, 6, 3]\n"
     ]
    }
   ],
   "source": [
    "#------------------------------------------------------------------------\n",
    "# 1.28: Reverse the List\n",
    "#------------------------------------------------------------------------\n",
    "# Example 1\n",
    "L = [3, 6, 9, 6, 5, 3, 2]\n",
    "print (\"L               -->\", L)\n",
    "\n",
    "L.reverse()                         # List L is also reverse\n",
    "print (\"L after reverse -->\", L)\n"
   ]
  },
  {
   "cell_type": "code",
   "execution_count": 68,
   "metadata": {},
   "outputs": [
    {
     "name": "stdout",
     "output_type": "stream",
     "text": [
      "L                     --> [3, 6, 9, 6, 5, 3, 2]\n",
      "Reverse L (for print) --> [2, 3, 5, 6, 9, 6, 3]\n",
      "L after reverse       --> [2, 3, 5, 6, 9, 6, 3]\n"
     ]
    }
   ],
   "source": [
    "# Example 2\n",
    "L = [3, 6, 9, 6, 5, 3, 2]\n",
    "print (\"L                     -->\", L)\n",
    "\n",
    "print (\"Reverse L (for print) -->\", L[::-1])\n",
    "\n",
    "L = L[::-1]\n",
    "print (\"L after reverse       -->\", L)\n"
   ]
  },
  {
   "cell_type": "markdown",
   "metadata": {},
   "source": [
    "### 1.29: Nested List - List in List"
   ]
  },
  {
   "cell_type": "code",
   "execution_count": 70,
   "metadata": {},
   "outputs": [
    {
     "name": "stdout",
     "output_type": "stream",
     "text": [
      "L        --> [3, [10, 20, 30], 9, [12, 5, 3, 2], 'Ram']\n",
      "\n",
      "L[1]     --> [10, 20, 30]\n",
      "L[1][1]  --> 20\n",
      "L[-2]    --> [12, 5, 3, 2]\n",
      "L[-2][-1]--> 2\n",
      "L[-1]    --> Ram\n",
      "L[-1][1] --> a\n"
     ]
    }
   ],
   "source": [
    "#------------------------------------------------------------------------\n",
    "# 1.29: Nested List - List in List\n",
    "#------------------------------------------------------------------------\n",
    "L = [3, [10,20,30], 9, [12, 5, 3, 2],\"Ram\"]\n",
    "print (\"L        -->\", L)\n",
    "\n",
    "print (\"\")\n",
    "print (\"L[1]     -->\", L[1])\n",
    "print (\"L[1][1]  -->\", L[1][1])\n",
    "print (\"L[-2]    -->\", L[-2])\n",
    "print (\"L[-2][-1]-->\", L[-2][-1])\n",
    "print (\"L[-1]    -->\", L[-1])\n",
    "print (\"L[-1][1] -->\", L[-1][1])\n"
   ]
  },
  {
   "cell_type": "markdown",
   "metadata": {},
   "source": [
    "### 1.30: Nested List - Tuple in List"
   ]
  },
  {
   "cell_type": "code",
   "execution_count": 71,
   "metadata": {},
   "outputs": [
    {
     "name": "stdout",
     "output_type": "stream",
     "text": [
      "L        --> [3, (10, 20, 30), 9, (12, 5, 3, 2), 'Ram']\n",
      "\n",
      "L[1]     --> (10, 20, 30)\n",
      "L[1][1]  --> 20\n",
      "L[-2]    --> (12, 5, 3, 2)\n",
      "L[-2][-1]--> 2\n",
      "L[-1]    --> Ram\n",
      "L[-1][1] --> a\n"
     ]
    }
   ],
   "source": [
    "#------------------------------------------------------------------------\n",
    "# 1.30: Nested List - Tuple in List\n",
    "#------------------------------------------------------------------------\n",
    "L = [3, (10,20,30), 9, (12, 5, 3, 2),\"Ram\"]\n",
    "print (\"L        -->\", L)\n",
    "\n",
    "print (\"\")\n",
    "print (\"L[1]     -->\", L[1])\n",
    "print (\"L[1][1]  -->\", L[1][1])\n",
    "print (\"L[-2]    -->\", L[-2])\n",
    "print (\"L[-2][-1]-->\", L[-2][-1])\n",
    "print (\"L[-1]    -->\", L[-1])\n",
    "print (\"L[-1][1] -->\", L[-1][1])\n",
    "\n"
   ]
  },
  {
   "cell_type": "markdown",
   "metadata": {},
   "source": [
    "### 1.31: Use of copy() function - Version 1"
   ]
  },
  {
   "cell_type": "code",
   "execution_count": 72,
   "metadata": {},
   "outputs": [
    {
     "name": "stdout",
     "output_type": "stream",
     "text": [
      "L  --> [2, 4, 5, 6, 7, 8, 9]\n",
      "L1 --> [2, 4, 5, 6, 7, 8, 9]\n"
     ]
    }
   ],
   "source": [
    "#------------------------------------------------------------------------\n",
    "# 1.31: Use of copy() function - Version 1\n",
    "#------------------------------------------------------------------------\n",
    "# Example 1\n",
    "L = [4, 5, 2, 6, 7, 9, 8]\n",
    "L1 = L                            # Pointing to the same memory location as L\n",
    "\n",
    "L.sort()\n",
    "\n",
    "print (\"L  -->\", L)\n",
    "print (\"L1 -->\", L1)\n"
   ]
  },
  {
   "cell_type": "code",
   "execution_count": 74,
   "metadata": {},
   "outputs": [
    {
     "name": "stdout",
     "output_type": "stream",
     "text": [
      "L  --> [2, 4, 5, 6, 7, 8, 9]\n",
      "L1 --> [4, 5, 2, 6, 7, 9, 8]\n"
     ]
    }
   ],
   "source": [
    "# Example 2\n",
    "import copy  #copy module has copy method\n",
    "L = [4, 5, 2, 6, 7, 9, 8]\n",
    "L1 = copy.copy(L)                 # New memory is allocated\n",
    "# L1 = list(L)                          # Also work fine\n",
    "\n",
    "L.sort()\n",
    "\n",
    "print (\"L  -->\", L)\n",
    "print (\"L1 -->\", L1)\n"
   ]
  },
  {
   "cell_type": "markdown",
   "metadata": {},
   "source": [
    "### 1.32: Use of deepcopy() function - Version 2"
   ]
  },
  {
   "cell_type": "code",
   "execution_count": 75,
   "metadata": {},
   "outputs": [
    {
     "name": "stdout",
     "output_type": "stream",
     "text": [
      "L  --> [4, 1000, 2, 6, 7, 9, 8]\n",
      "L1 --> [4, 1000, 2, 6, 7, 9, 8]\n"
     ]
    }
   ],
   "source": [
    "#------------------------------------------------------------------------\n",
    "# 1.32: Use of deepcopy() function - Version 2\n",
    "#------------------------------------------------------------------------\n",
    "# Example 1\n",
    "L = [4, 5, 2, 6, 7, 9, 8]\n",
    "L1 = L                            # Pointing to the same memory location as L\n",
    "\n",
    "L[1] = 1000\n",
    "\n",
    "print (\"L  -->\", L)\n",
    "print (\"L1 -->\", L1)\n"
   ]
  },
  {
   "cell_type": "code",
   "execution_count": 76,
   "metadata": {},
   "outputs": [
    {
     "name": "stdout",
     "output_type": "stream",
     "text": [
      "L  --> [4, 1000, 2, 6, 7, 9, 8]\n",
      "L1 --> [4, 5, 2, 6, 7, 9, 8]\n"
     ]
    }
   ],
   "source": [
    "# Example 2\n",
    "import copy\n",
    "L = [4, 5, 2, 6, 7, 9, 8]\n",
    "L1 = copy.copy(L)                       # Pointing to the same memory location as L\n",
    "# L1 = list(L)                          # Also work fine\n",
    "\n",
    "L[1] = 1000\n",
    "\n",
    "print (\"L  -->\", L)\n",
    "print (\"L1 -->\", L1)"
   ]
  },
  {
   "cell_type": "code",
   "execution_count": 77,
   "metadata": {},
   "outputs": [
    {
     "name": "stdout",
     "output_type": "stream",
     "text": [
      "['red', 'green']\n",
      "['red', 'green']\n",
      "['red', 'blue']\n",
      "['red', 'blue']\n"
     ]
    }
   ],
   "source": [
    "colours1 = [\"red\", \"green\"]\n",
    "colours2 = colours1 #No object is created\n",
    "print(colours1)\n",
    "print(colours2)\n",
    "colours2[1] = \"blue\"\n",
    "print(colours1)\n",
    "print(colours2)\n",
    "\n"
   ]
  },
  {
   "cell_type": "code",
   "execution_count": 78,
   "metadata": {},
   "outputs": [
    {
     "name": "stdout",
     "output_type": "stream",
     "text": [
      "['red', 'green']\n",
      "['red', 'blue']\n"
     ]
    }
   ],
   "source": [
    "colours1 = [\"red\", \"green\"]\n",
    "colours2 = colours1[:]\n",
    "colours2[1] = \"blue\"\n",
    "print(colours1)  # NO change in Colour1\n",
    "print(colours2)"
   ]
  },
  {
   "cell_type": "code",
   "execution_count": 81,
   "metadata": {},
   "outputs": [
    {
     "name": "stdout",
     "output_type": "stream",
     "text": [
      "['a', 'b', ['ab', 'ba']]\n",
      "['a', 'b', ['ab', 'ba']]\n",
      "['a', 'b', ['ab', 'd']]\n",
      "['c', 'b', ['ab', 'd']]\n"
     ]
    }
   ],
   "source": [
    "lst1 = ['a','b',['ab','ba']]\n",
    "lst2 = lst1[:]   #no photocopy is generated\n",
    "print(lst1)\n",
    "print(lst2)\n",
    "lst2[0] = 'c'\n",
    "lst2[2][1] = 'd'\n",
    "print(lst1)\n",
    "print(lst2)"
   ]
  },
  {
   "cell_type": "code",
   "execution_count": 82,
   "metadata": {},
   "outputs": [
    {
     "name": "stdout",
     "output_type": "stream",
     "text": [
      "['c', 'b', ['ab', 'd']]\n",
      "['a', 'b', ['ab', 'ba']]\n"
     ]
    }
   ],
   "source": [
    "from copy import deepcopy \n",
    "lst1 = ['a','b',['ab','ba']]\n",
    "lst2 = deepcopy(lst1)  #deepcopy to create photocopy of an object\n",
    "lst2[2][1] = \"d\"\n",
    "lst2[0] = \"c\"\n",
    "print(lst2)\n",
    "print(lst1)\n"
   ]
  }
 ],
 "metadata": {
  "colab": {
   "collapsed_sections": [],
   "name": "BasicsOfPython.ipynb",
   "provenance": []
  },
  "kernelspec": {
   "display_name": "Python 3",
   "language": "python",
   "name": "python3"
  },
  "language_info": {
   "codemirror_mode": {
    "name": "ipython",
    "version": 3
   },
   "file_extension": ".py",
   "mimetype": "text/x-python",
   "name": "python",
   "nbconvert_exporter": "python",
   "pygments_lexer": "ipython3",
   "version": "3.9.7"
  }
 },
 "nbformat": 4,
 "nbformat_minor": 1
}
